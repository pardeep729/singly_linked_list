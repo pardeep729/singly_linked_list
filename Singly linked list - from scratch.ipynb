{
 "cells": [
  {
   "cell_type": "markdown",
   "metadata": {},
   "source": [
    "# Create classes"
   ]
  },
  {
   "cell_type": "markdown",
   "metadata": {},
   "source": [
    "## Node"
   ]
  },
  {
   "cell_type": "code",
   "execution_count": 1,
   "metadata": {},
   "outputs": [],
   "source": [
    "class Node():\n",
    "    def __init__(self, data) -> None:\n",
    "        self.data = data\n",
    "        self.next = None\n",
    "\n",
    "    def __repr__(self):\n",
    "        return str(self.data)"
   ]
  },
  {
   "cell_type": "markdown",
   "metadata": {},
   "source": [
    "## Linked List"
   ]
  },
  {
   "cell_type": "code",
   "execution_count": 206,
   "metadata": {},
   "outputs": [],
   "source": [
    "class LinkedList():\n",
    "    \"\"\"\n",
    "    A class to represent a list of connected nodes as a Linked List.\n",
    "\n",
    "    Attributes:\n",
    "        head (Node): The first/starting node of the linked list\n",
    "    \"\"\"\n",
    "\n",
    "    def __init__(self, nodes=None) -> None:\n",
    "        \"\"\"\n",
    "        Constructor for LinkedList class.\n",
    "\n",
    "        Parameters:\n",
    "            nodes (List): A list of the data values of the nodes as part of this list in order\n",
    "        \"\"\"\n",
    "\n",
    "        self.head = None\n",
    "\n",
    "        if nodes is not None:\n",
    "            node = Node(data=nodes.pop(0))\n",
    "            self.head = node\n",
    "\n",
    "            for elem in nodes:\n",
    "                node.next = Node(data=elem)\n",
    "                node = node.next\n",
    "\n",
    "    def __repr__(self):\n",
    "        \"\"\"\n",
    "        Method called when you display or print the LinkedList instance.\n",
    "        \"\"\"\n",
    "\n",
    "        node = self.head\n",
    "        nodes = []\n",
    "        \n",
    "        while node is not None:\n",
    "            nodes.append(node.data)\n",
    "            node = node.next\n",
    "\n",
    "        nodes.append(\"None\")\n",
    "        return \" -> \".join(nodes)\n",
    "\n",
    "    def __iter__(self):\n",
    "        \"\"\"\n",
    "        Method called when you iterate over the LinkedList instance.\n",
    "        \"\"\"\n",
    "        node = self.head\n",
    "        while node is not None:\n",
    "            yield node\n",
    "            node = node.next\n",
    "\n",
    "    def add_first(self, node):\n",
    "        \"\"\"\n",
    "        Adds a new node to the start of the linked list.\n",
    "\n",
    "        Parameters: \n",
    "            node (Node): The new instance of Node to be added\n",
    "        \"\"\"\n",
    "\n",
    "        node.next = self.head\n",
    "        self.head = node\n",
    "\n",
    "    def add_last(self, node):\n",
    "        \"\"\"\n",
    "        Adds a new node to the end of the linked list.\n",
    "\n",
    "        Parameters: \n",
    "            node (Node): The new instance of Node to be added\n",
    "        \"\"\"\n",
    "        if self.head is None:\n",
    "            self.head = node\n",
    "            return\n",
    "            \n",
    "        for curr_node in self:\n",
    "            pass\n",
    "        curr_node.next = node\n",
    "\n",
    "    def add_after(self, target_node_data, new_node):\n",
    "        \"\"\"\n",
    "        Add a new nodes after the specified existing target node.\n",
    "\n",
    "        Parameters:\n",
    "            target_node_data: Data of the existing target node to insert after\n",
    "            new_node (Node): Instance of Node to be inserted at specified location\n",
    "        \"\"\"\n",
    "        \n",
    "        # Raise exception if empty linked list\n",
    "        if self.head is None:\n",
    "            raise Exception(\"List is empty\")\n",
    "\n",
    "        # Find existing node and insert new node after it\n",
    "        for node in self:\n",
    "            if node.data == target_node_data:\n",
    "                new_node.next = node.next\n",
    "                node.next = new_node\n",
    "                return\n",
    "\n",
    "        # Raise exception if cannot find target node\n",
    "        raise Exception(f\"Target node with data {target_node_data} could not be found\")\n",
    "\n",
    "    def add_before(self, target_node_data, new_node):\n",
    "        \"\"\"\n",
    "        Add a new nodes before the specified existing target node.\n",
    "\n",
    "        Parameters:\n",
    "            target_node_data: Data of the existing target node to insert before\n",
    "            new_node (Node): Instance of Node to be inserted at specified location\n",
    "        \"\"\"\n",
    "        \n",
    "        # Raise exception if empty linked list\n",
    "        if self.head is None:\n",
    "            raise Exception(\"List is empty\")\n",
    "\n",
    "        # If the target node is the head, make the new node the head\n",
    "        if self.head.data == target_node_data:\n",
    "            self.add_first(new_node)\n",
    "\n",
    "        # Find existing node and insert new node before it\n",
    "        prev_node = self.head\n",
    "        for node in self:\n",
    "            if node.data == target_node_data:\n",
    "                prev_node.next = new_node\n",
    "                new_node.next = node\n",
    "                return\n",
    "            prev_node = node\n",
    "\n",
    "        # Raise exception if cannot find target node\n",
    "        raise Exception(f\"Target node with data {target_node_data} could not be found\")\n",
    "\n",
    "    def remove(self, target_node_data):\n",
    "        \"\"\"\n",
    "        Removes the first node with the same data as the target node specified\n",
    "\n",
    "        Parameters:\n",
    "            target_node_data: Data of the node to be removed\n",
    "        \"\"\"\n",
    "\n",
    "        # Raise exception if empty linked list\n",
    "        if self.head is None:\n",
    "            raise Exception(\"List is empty\")\n",
    "\n",
    "        # If the target node is head, make the next node the new head\n",
    "        if self.head.data == target_node_data:\n",
    "            self.head = self.head.next\n",
    "\n",
    "        # Iterate over all nodes, bridge the previus and next node together to \"remove\" target node\n",
    "        prev_node = self.head\n",
    "        for node in self:\n",
    "            if node.data == target_node_data:\n",
    "                prev_node.next = node.next\n",
    "                return\n",
    "            prev_node = node\n",
    "\n",
    "        # Raise exception if cannot find target node\n",
    "        raise Exception(f\"Target node with data {target_node_data} could not be found\")\n",
    "\n",
    "    def node_at_index(self, target_index):\n",
    "        \"\"\"\n",
    "        Returns the node at the specified index. 1st node (head) is index 0\n",
    "\n",
    "        Parameters:\n",
    "            target_index (int): Index position of the target node \n",
    "        \"\"\"\n",
    "        # Raise exception if empty linked list\n",
    "        if self.head is None:\n",
    "            raise Exception(\"List is empty\")\n",
    "        \n",
    "        # Iterate over nodes until hit target\n",
    "        for i, node in enumerate(self):\n",
    "            if i == target_index:\n",
    "                return node\n",
    "        \n",
    "        # Raise exception if cannot find target index (i.e. because out of bounds)\n",
    "        raise Exception(f\"Index {target_index} (element {target_index+1}) is out of range. There are only {i+1} nodes in the linked list.\")\n",
    "\n",
    "    def reverse(self):\n",
    "        \"\"\"\n",
    "        Reverses the linked list instance and returns a new instance with the results\n",
    "        \"\"\"\n",
    "\n",
    "        # Get data of all elements in the linked list\n",
    "        nodes = []\n",
    "        for n in self:\n",
    "            nodes.append(n.data)\n",
    "\n",
    "        nodes_reversed = nodes.copy()\n",
    "        nodes_reversed.reverse()\n",
    "\n",
    "        return LinkedList(nodes_reversed)"
   ]
  },
  {
   "cell_type": "markdown",
   "metadata": {},
   "source": [
    "## Queue"
   ]
  },
  {
   "cell_type": "code",
   "execution_count": 210,
   "metadata": {},
   "outputs": [],
   "source": [
    "class Queue(LinkedList):\n",
    "    \"\"\"\n",
    "    A linked list implemented for creating queues. Inherits class LinkedList\n",
    "    \"\"\"\n",
    "\n",
    "    def enqueue(self, node):\n",
    "        \"\"\"\n",
    "        Enqueues to the list the supplied node (i.e. adds to end)\n",
    "\n",
    "        Paramters:\n",
    "            node (Node): Instance of Node to be added\n",
    "        \"\"\"\n",
    "\n",
    "        self.add_last(node)\n",
    "\n",
    "    def dequeue(self):\n",
    "        \"\"\"\n",
    "        Dequeues from the list (i.e. remove the first node, head)\n",
    "\n",
    "        Returns:\n",
    "            popped_node (Node): The previous head node that was removed\n",
    "        \"\"\"\n",
    "        popped_node = self.head\n",
    "        self.head = self.head.next\n",
    "\n",
    "        return popped_node"
   ]
  },
  {
   "cell_type": "markdown",
   "metadata": {},
   "source": [
    "# Demo"
   ]
  },
  {
   "cell_type": "code",
   "execution_count": 211,
   "metadata": {},
   "outputs": [
    {
     "name": "stdout",
     "output_type": "stream",
     "text": [
      "Help on class LinkedList in module __main__:\n",
      "\n",
      "class LinkedList(builtins.object)\n",
      " |  LinkedList(nodes=None) -> None\n",
      " |  \n",
      " |  A class to represent a list of connected nodes as a Linked List.\n",
      " |  \n",
      " |  Attributes:\n",
      " |      head (Node): The first/starting node of the linked list\n",
      " |  \n",
      " |  Methods defined here:\n",
      " |  \n",
      " |  __init__(self, nodes=None) -> None\n",
      " |      Constructor for LinkedList class.\n",
      " |      \n",
      " |      Parameters:\n",
      " |          nodes (List): A list of the data values of the nodes as part of this list in order\n",
      " |  \n",
      " |  __iter__(self)\n",
      " |      Method called when you iterate over the LinkedList instance.\n",
      " |  \n",
      " |  __repr__(self)\n",
      " |      Method called when you display or print the LinkedList instance.\n",
      " |  \n",
      " |  add_after(self, target_node_data, new_node)\n",
      " |      Add a new nodes after the specified existing target node.\n",
      " |      \n",
      " |      Parameters:\n",
      " |          target_node_data: Data of the existing target node to insert after\n",
      " |          new_node (Node): Instance of Node to be inserted at specified location\n",
      " |  \n",
      " |  add_before(self, target_node_data, new_node)\n",
      " |      Add a new nodes before the specified existing target node.\n",
      " |      \n",
      " |      Parameters:\n",
      " |          target_node_data: Data of the existing target node to insert before\n",
      " |          new_node (Node): Instance of Node to be inserted at specified location\n",
      " |  \n",
      " |  add_first(self, node)\n",
      " |      Adds a new node to the start of the linked list.\n",
      " |      \n",
      " |      Parameters: \n",
      " |          node (Node): The new instance of Node to be added\n",
      " |  \n",
      " |  add_last(self, node)\n",
      " |      Adds a new node to the end of the linked list.\n",
      " |      \n",
      " |      Parameters: \n",
      " |          node (Node): The new instance of Node to be added\n",
      " |  \n",
      " |  node_at_index(self, target_index)\n",
      " |      Returns the node at the specified index. 1st node (head) is index 0\n",
      " |      \n",
      " |      Parameters:\n",
      " |          target_index (int): Index position of the target node\n",
      " |  \n",
      " |  remove(self, target_node_data)\n",
      " |      Removes the first node with the same data as the target node specified\n",
      " |      \n",
      " |      Parameters:\n",
      " |          target_node_data: Data of the node to be removed\n",
      " |  \n",
      " |  reverse(self)\n",
      " |      Reverses the linked list instance and returns a new instance with the results\n",
      " |  \n",
      " |  ----------------------------------------------------------------------\n",
      " |  Data descriptors defined here:\n",
      " |  \n",
      " |  __dict__\n",
      " |      dictionary for instance variables (if defined)\n",
      " |  \n",
      " |  __weakref__\n",
      " |      list of weak references to the object (if defined)\n",
      "\n"
     ]
    }
   ],
   "source": [
    "help(LinkedList)"
   ]
  },
  {
   "cell_type": "code",
   "execution_count": 212,
   "metadata": {},
   "outputs": [
    {
     "data": {
      "text/plain": [
       "Jan -> Feb -> Mar -> None"
      ]
     },
     "execution_count": 212,
     "metadata": {},
     "output_type": "execute_result"
    }
   ],
   "source": [
    "node_1 = Node(\"Jan\")\n",
    "node_2 = Node(\"Feb\")\n",
    "node_1.next = node_2\n",
    "node_3 = Node(\"Mar\")\n",
    "node_2.next = node_3\n",
    "\n",
    "llist = LinkedList()\n",
    "llist.head = node_1\n",
    "llist"
   ]
  },
  {
   "cell_type": "code",
   "execution_count": 223,
   "metadata": {},
   "outputs": [
    {
     "data": {
      "text/plain": [
       "Mar -> Feb -> Jan -> None"
      ]
     },
     "execution_count": 223,
     "metadata": {},
     "output_type": "execute_result"
    }
   ],
   "source": [
    "llist.reverse()"
   ]
  },
  {
   "cell_type": "code",
   "execution_count": 172,
   "metadata": {},
   "outputs": [
    {
     "data": {
      "text/plain": [
       "Alpha -> Beta -> Gamma -> Delta -> Epsilon -> None"
      ]
     },
     "execution_count": 172,
     "metadata": {},
     "output_type": "execute_result"
    }
   ],
   "source": [
    "llist_2 = LinkedList([\"Alpha\", \"Beta\", \"Gamma\", \"Delta\", \"Epsilon\"])\n",
    "llist_2"
   ]
  },
  {
   "cell_type": "code",
   "execution_count": 173,
   "metadata": {},
   "outputs": [
    {
     "name": "stdout",
     "output_type": "stream",
     "text": [
      "Jan\n",
      "Feb\n",
      "Mar\n",
      "Alpha\n",
      "Beta\n",
      "Gamma\n",
      "Delta\n",
      "Epsilon\n"
     ]
    }
   ],
   "source": [
    "for i in llist:\n",
    "    print(i)\n",
    "    \n",
    "for i in llist_2:\n",
    "    print(i)"
   ]
  },
  {
   "cell_type": "code",
   "execution_count": 224,
   "metadata": {},
   "outputs": [
    {
     "data": {
      "text/plain": [
       "Dec -> Jan -> Feb -> Mar -> None"
      ]
     },
     "execution_count": 224,
     "metadata": {},
     "output_type": "execute_result"
    }
   ],
   "source": [
    "llist.add_first(Node(\"Dec\"))\n",
    "llist"
   ]
  },
  {
   "cell_type": "code",
   "execution_count": 225,
   "metadata": {},
   "outputs": [
    {
     "data": {
      "text/plain": [
       "Dec -> Jan -> Feb -> Mar -> Apr -> None"
      ]
     },
     "execution_count": 225,
     "metadata": {},
     "output_type": "execute_result"
    }
   ],
   "source": [
    "llist.add_last(Node(\"Apr\"))\n",
    "llist"
   ]
  },
  {
   "cell_type": "code",
   "execution_count": 176,
   "metadata": {},
   "outputs": [
    {
     "data": {
      "text/plain": [
       "Dec -> Jan -> Feb -> Lead day -> Mar -> Apr -> None"
      ]
     },
     "execution_count": 176,
     "metadata": {},
     "output_type": "execute_result"
    }
   ],
   "source": [
    "llist.add_before(\"Mar\", Node(\"Lead day\"))\n",
    "llist"
   ]
  },
  {
   "cell_type": "code",
   "execution_count": 177,
   "metadata": {},
   "outputs": [],
   "source": [
    "llist.add_after(\"Dec\", Node(\"NYE\"))"
   ]
  },
  {
   "cell_type": "code",
   "execution_count": 178,
   "metadata": {},
   "outputs": [
    {
     "data": {
      "text/plain": [
       "Dec -> NYE -> Jan -> Feb -> Lead day -> Mar -> Apr -> None"
      ]
     },
     "execution_count": 178,
     "metadata": {},
     "output_type": "execute_result"
    }
   ],
   "source": [
    "llist"
   ]
  },
  {
   "cell_type": "code",
   "execution_count": 179,
   "metadata": {},
   "outputs": [
    {
     "ename": "Exception",
     "evalue": "Target node with data Aug could not be found",
     "output_type": "error",
     "traceback": [
      "\u001b[1;31m---------------------------------------------------------------------------\u001b[0m",
      "\u001b[1;31mException\u001b[0m                                 Traceback (most recent call last)",
      "\u001b[1;32m<ipython-input-179-e89a648d02d9>\u001b[0m in \u001b[0;36m<module>\u001b[1;34m\u001b[0m\n\u001b[1;32m----> 1\u001b[1;33m \u001b[0mllist\u001b[0m\u001b[1;33m.\u001b[0m\u001b[0madd_before\u001b[0m\u001b[1;33m(\u001b[0m\u001b[1;34m\"Aug\"\u001b[0m\u001b[1;33m,\u001b[0m \u001b[0mNode\u001b[0m\u001b[1;33m(\u001b[0m\u001b[1;34m\"July\"\u001b[0m\u001b[1;33m)\u001b[0m\u001b[1;33m)\u001b[0m\u001b[1;33m\u001b[0m\u001b[1;33m\u001b[0m\u001b[0m\n\u001b[0m\u001b[0;32m      2\u001b[0m \u001b[0mllist\u001b[0m\u001b[1;33m\u001b[0m\u001b[1;33m\u001b[0m\u001b[0m\n",
      "\u001b[1;32m<ipython-input-169-8ae589adf840>\u001b[0m in \u001b[0;36madd_before\u001b[1;34m(self, target_node_data, new_node)\u001b[0m\n\u001b[0;32m    125\u001b[0m \u001b[1;33m\u001b[0m\u001b[0m\n\u001b[0;32m    126\u001b[0m         \u001b[1;31m# Raise exception if cannot find target node\u001b[0m\u001b[1;33m\u001b[0m\u001b[1;33m\u001b[0m\u001b[1;33m\u001b[0m\u001b[0m\n\u001b[1;32m--> 127\u001b[1;33m         \u001b[1;32mraise\u001b[0m \u001b[0mException\u001b[0m\u001b[1;33m(\u001b[0m\u001b[1;34mf\"Target node with data {target_node_data} could not be found\"\u001b[0m\u001b[1;33m)\u001b[0m\u001b[1;33m\u001b[0m\u001b[1;33m\u001b[0m\u001b[0m\n\u001b[0m\u001b[0;32m    128\u001b[0m \u001b[1;33m\u001b[0m\u001b[0m\n\u001b[0;32m    129\u001b[0m     \u001b[1;32mdef\u001b[0m \u001b[0mremove\u001b[0m\u001b[1;33m(\u001b[0m\u001b[0mself\u001b[0m\u001b[1;33m,\u001b[0m \u001b[0mtarget_node_data\u001b[0m\u001b[1;33m)\u001b[0m\u001b[1;33m:\u001b[0m\u001b[1;33m\u001b[0m\u001b[1;33m\u001b[0m\u001b[0m\n",
      "\u001b[1;31mException\u001b[0m: Target node with data Aug could not be found"
     ]
    }
   ],
   "source": [
    "llist.add_before(\"Aug\", Node(\"July\"))\n",
    "llist"
   ]
  },
  {
   "cell_type": "code",
   "execution_count": null,
   "metadata": {},
   "outputs": [
    {
     "ename": "Exception",
     "evalue": "Target node with data Aug could not be found",
     "output_type": "error",
     "traceback": [
      "\u001b[1;31m---------------------------------------------------------------------------\u001b[0m",
      "\u001b[1;31mException\u001b[0m                                 Traceback (most recent call last)",
      "\u001b[1;32m<ipython-input-156-cda0cfa187f3>\u001b[0m in \u001b[0;36m<module>\u001b[1;34m\u001b[0m\n\u001b[1;32m----> 1\u001b[1;33m \u001b[0mllist\u001b[0m\u001b[1;33m.\u001b[0m\u001b[0madd_after\u001b[0m\u001b[1;33m(\u001b[0m\u001b[1;34m\"Aug\"\u001b[0m\u001b[1;33m,\u001b[0m \u001b[0mNode\u001b[0m\u001b[1;33m(\u001b[0m\u001b[1;34m\"September\"\u001b[0m\u001b[1;33m)\u001b[0m\u001b[1;33m)\u001b[0m\u001b[1;33m\u001b[0m\u001b[1;33m\u001b[0m\u001b[0m\n\u001b[0m\u001b[0;32m      2\u001b[0m \u001b[0mllist\u001b[0m\u001b[1;33m\u001b[0m\u001b[1;33m\u001b[0m\u001b[0m\n",
      "\u001b[1;32m<ipython-input-132-b8d5d64e92d2>\u001b[0m in \u001b[0;36madd_after\u001b[1;34m(self, target_node_data, new_node)\u001b[0m\n\u001b[0;32m     96\u001b[0m \u001b[1;33m\u001b[0m\u001b[0m\n\u001b[0;32m     97\u001b[0m         \u001b[1;31m# Raise exception if cannot find target node\u001b[0m\u001b[1;33m\u001b[0m\u001b[1;33m\u001b[0m\u001b[1;33m\u001b[0m\u001b[0m\n\u001b[1;32m---> 98\u001b[1;33m         \u001b[1;32mraise\u001b[0m \u001b[0mException\u001b[0m\u001b[1;33m(\u001b[0m\u001b[1;34mf\"Target node with data {target_node_data} could not be found\"\u001b[0m\u001b[1;33m)\u001b[0m\u001b[1;33m\u001b[0m\u001b[1;33m\u001b[0m\u001b[0m\n\u001b[0m\u001b[0;32m     99\u001b[0m \u001b[1;33m\u001b[0m\u001b[0m\n\u001b[0;32m    100\u001b[0m     \u001b[1;32mdef\u001b[0m \u001b[0madd_before\u001b[0m\u001b[1;33m(\u001b[0m\u001b[0mself\u001b[0m\u001b[1;33m,\u001b[0m \u001b[0mtarget_node_data\u001b[0m\u001b[1;33m,\u001b[0m \u001b[0mnew_node\u001b[0m\u001b[1;33m)\u001b[0m\u001b[1;33m:\u001b[0m\u001b[1;33m\u001b[0m\u001b[1;33m\u001b[0m\u001b[0m\n",
      "\u001b[1;31mException\u001b[0m: Target node with data Aug could not be found"
     ]
    }
   ],
   "source": [
    "llist.add_after(\"Aug\", Node(\"September\"))\n",
    "llist"
   ]
  },
  {
   "cell_type": "code",
   "execution_count": null,
   "metadata": {},
   "outputs": [
    {
     "data": {
      "text/plain": [
       "Dec -> Jan -> Feb -> Lead day -> Mar -> Apr -> None"
      ]
     },
     "execution_count": 157,
     "metadata": {},
     "output_type": "execute_result"
    }
   ],
   "source": [
    "llist.remove(\"NYE\")\n",
    "llist"
   ]
  },
  {
   "cell_type": "code",
   "execution_count": null,
   "metadata": {},
   "outputs": [
    {
     "data": {
      "text/plain": [
       "Dec -> Jan -> Feb -> Mar -> Apr -> None"
      ]
     },
     "execution_count": 158,
     "metadata": {},
     "output_type": "execute_result"
    }
   ],
   "source": [
    "llist.remove(\"Lead day\")\n",
    "llist"
   ]
  },
  {
   "cell_type": "code",
   "execution_count": null,
   "metadata": {},
   "outputs": [
    {
     "ename": "Exception",
     "evalue": "Target node with data August could not be found",
     "output_type": "error",
     "traceback": [
      "\u001b[1;31m---------------------------------------------------------------------------\u001b[0m",
      "\u001b[1;31mException\u001b[0m                                 Traceback (most recent call last)",
      "\u001b[1;32m<ipython-input-159-fd0887d90e3a>\u001b[0m in \u001b[0;36m<module>\u001b[1;34m\u001b[0m\n\u001b[1;32m----> 1\u001b[1;33m \u001b[0mllist\u001b[0m\u001b[1;33m.\u001b[0m\u001b[0mremove\u001b[0m\u001b[1;33m(\u001b[0m\u001b[1;34m\"August\"\u001b[0m\u001b[1;33m)\u001b[0m\u001b[1;33m\u001b[0m\u001b[1;33m\u001b[0m\u001b[0m\n\u001b[0m\u001b[0;32m      2\u001b[0m \u001b[0mllist\u001b[0m\u001b[1;33m\u001b[0m\u001b[1;33m\u001b[0m\u001b[0m\n",
      "\u001b[1;32m<ipython-input-132-b8d5d64e92d2>\u001b[0m in \u001b[0;36mremove\u001b[1;34m(self, target_node_data)\u001b[0m\n\u001b[0;32m    152\u001b[0m \u001b[1;33m\u001b[0m\u001b[0m\n\u001b[0;32m    153\u001b[0m         \u001b[1;31m# Raise exception if cannot find target node\u001b[0m\u001b[1;33m\u001b[0m\u001b[1;33m\u001b[0m\u001b[1;33m\u001b[0m\u001b[0m\n\u001b[1;32m--> 154\u001b[1;33m         \u001b[1;32mraise\u001b[0m \u001b[0mException\u001b[0m\u001b[1;33m(\u001b[0m\u001b[1;34mf\"Target node with data {target_node_data} could not be found\"\u001b[0m\u001b[1;33m)\u001b[0m\u001b[1;33m\u001b[0m\u001b[1;33m\u001b[0m\u001b[0m\n\u001b[0m\u001b[0;32m    155\u001b[0m \u001b[1;33m\u001b[0m\u001b[0m\n\u001b[0;32m    156\u001b[0m     \u001b[1;32mdef\u001b[0m \u001b[0mnode_at_index\u001b[0m\u001b[1;33m(\u001b[0m\u001b[0mself\u001b[0m\u001b[1;33m,\u001b[0m \u001b[0mtarget_index\u001b[0m\u001b[1;33m)\u001b[0m\u001b[1;33m:\u001b[0m\u001b[1;33m\u001b[0m\u001b[1;33m\u001b[0m\u001b[0m\n",
      "\u001b[1;31mException\u001b[0m: Target node with data August could not be found"
     ]
    }
   ],
   "source": [
    "llist.remove(\"August\")\n",
    "llist"
   ]
  },
  {
   "cell_type": "code",
   "execution_count": 182,
   "metadata": {},
   "outputs": [
    {
     "data": {
      "text/plain": [
       "Dec -> NYE -> Jan -> Feb -> Lead day -> Mar -> Apr -> None"
      ]
     },
     "execution_count": 182,
     "metadata": {},
     "output_type": "execute_result"
    }
   ],
   "source": [
    "llist"
   ]
  },
  {
   "cell_type": "code",
   "execution_count": 184,
   "metadata": {},
   "outputs": [
    {
     "ename": "Exception",
     "evalue": "Index 7 (element 8) is out of range. There are only 7 nodes in the linked list.",
     "output_type": "error",
     "traceback": [
      "\u001b[1;31m---------------------------------------------------------------------------\u001b[0m",
      "\u001b[1;31mException\u001b[0m                                 Traceback (most recent call last)",
      "\u001b[1;32m<ipython-input-184-72a708cccd38>\u001b[0m in \u001b[0;36m<module>\u001b[1;34m\u001b[0m\n\u001b[1;32m----> 1\u001b[1;33m \u001b[0mllist\u001b[0m\u001b[1;33m.\u001b[0m\u001b[0mnode_at_index\u001b[0m\u001b[1;33m(\u001b[0m\u001b[1;36m7\u001b[0m\u001b[1;33m)\u001b[0m\u001b[1;33m\u001b[0m\u001b[1;33m\u001b[0m\u001b[0m\n\u001b[0m",
      "\u001b[1;32m<ipython-input-169-8ae589adf840>\u001b[0m in \u001b[0;36mnode_at_index\u001b[1;34m(self, target_index)\u001b[0m\n\u001b[0;32m    171\u001b[0m \u001b[1;33m\u001b[0m\u001b[0m\n\u001b[0;32m    172\u001b[0m         \u001b[1;31m# Raise exception if cannot find target index (i.e. because out of bounds)\u001b[0m\u001b[1;33m\u001b[0m\u001b[1;33m\u001b[0m\u001b[1;33m\u001b[0m\u001b[0m\n\u001b[1;32m--> 173\u001b[1;33m         \u001b[1;32mraise\u001b[0m \u001b[0mException\u001b[0m\u001b[1;33m(\u001b[0m\u001b[1;34mf\"Index {target_index} (element {target_index+1}) is out of range. There are only {i+1} nodes in the linked list.\"\u001b[0m\u001b[1;33m)\u001b[0m\u001b[1;33m\u001b[0m\u001b[1;33m\u001b[0m\u001b[0m\n\u001b[0m",
      "\u001b[1;31mException\u001b[0m: Index 7 (element 8) is out of range. There are only 7 nodes in the linked list."
     ]
    }
   ],
   "source": [
    "llist.node_at_index(7)"
   ]
  },
  {
   "cell_type": "code",
   "execution_count": null,
   "metadata": {},
   "outputs": [],
   "source": []
  },
  {
   "cell_type": "code",
   "execution_count": 239,
   "metadata": {},
   "outputs": [
    {
     "data": {
      "text/plain": [
       "Abbie -> Brian -> Chris -> Derek -> None"
      ]
     },
     "execution_count": 239,
     "metadata": {},
     "output_type": "execute_result"
    }
   ],
   "source": [
    "waiting_list = Queue(['Abbie', 'Brian', 'Chris', 'Derek'])\n",
    "waiting_list"
   ]
  },
  {
   "cell_type": "code",
   "execution_count": 240,
   "metadata": {},
   "outputs": [
    {
     "data": {
      "text/plain": [
       "Abbie -> Brian -> Chris -> Derek -> Ellen -> None"
      ]
     },
     "execution_count": 240,
     "metadata": {},
     "output_type": "execute_result"
    }
   ],
   "source": [
    "waiting_list.enqueue(Node(\"Ellen\"))\n",
    "waiting_list"
   ]
  },
  {
   "cell_type": "code",
   "execution_count": 241,
   "metadata": {},
   "outputs": [
    {
     "data": {
      "text/plain": [
       "(Abbie, Brian -> Chris -> Derek -> Ellen -> None)"
      ]
     },
     "execution_count": 241,
     "metadata": {},
     "output_type": "execute_result"
    }
   ],
   "source": [
    "waiting_list.dequeue(), waiting_list"
   ]
  },
  {
   "cell_type": "code",
   "execution_count": null,
   "metadata": {},
   "outputs": [],
   "source": []
  }
 ],
 "metadata": {
  "interpreter": {
   "hash": "ee5438716e3e5feb5398f6c5f83e8b731feaa44b0c2c7ec492972d8d9b47570b"
  },
  "kernelspec": {
   "display_name": "Python 3.7.9 64-bit ('base': conda)",
   "language": "python",
   "name": "python3"
  },
  "language_info": {
   "codemirror_mode": {
    "name": "ipython",
    "version": 3
   },
   "file_extension": ".py",
   "mimetype": "text/x-python",
   "name": "python",
   "nbconvert_exporter": "python",
   "pygments_lexer": "ipython3",
   "version": "3.7.9"
  },
  "orig_nbformat": 4
 },
 "nbformat": 4,
 "nbformat_minor": 2
}
